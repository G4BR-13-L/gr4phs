{
 "cells": [
  {
   "cell_type": "code",
   "execution_count": 88,
   "metadata": {},
   "outputs": [
    {
     "ename": "TypeError",
     "evalue": "unsupported operand type(s) for -: 'generator' and 'int'",
     "output_type": "error",
     "traceback": [
      "\u001b[0;31m---------------------------------------------------------------------------\u001b[0m",
      "\u001b[0;31mTypeError\u001b[0m                                 Traceback (most recent call last)",
      "Cell \u001b[0;32mIn [88], line 11\u001b[0m\n\u001b[1;32m      9\u001b[0m int_list \u001b[38;5;241m=\u001b[39m []\n\u001b[1;32m     10\u001b[0m \u001b[38;5;28;01mfor\u001b[39;00m line \u001b[38;5;129;01min\u001b[39;00m aquivoDeInstancia\u001b[38;5;241m.\u001b[39mreadlines():\n\u001b[0;32m---> 11\u001b[0m      int_list\u001b[38;5;241m.\u001b[39mappend([\u001b[43m(\u001b[49m\u001b[38;5;28;43mint\u001b[39;49m\u001b[43m(\u001b[49m\u001b[43mi\u001b[49m\u001b[43m)\u001b[49m\u001b[43m \u001b[49m\u001b[38;5;28;43;01mfor\u001b[39;49;00m\u001b[43m \u001b[49m\u001b[43mi\u001b[49m\u001b[43m \u001b[49m\u001b[38;5;129;43;01min\u001b[39;49;00m\u001b[43m \u001b[49m\u001b[43mline\u001b[49m\u001b[38;5;241;43m.\u001b[39;49m\u001b[43msplit\u001b[49m\u001b[43m(\u001b[49m\u001b[43m)\u001b[49m\u001b[43m)\u001b[49m\u001b[43m \u001b[49m\u001b[38;5;241;43m-\u001b[39;49m\u001b[38;5;241;43m1\u001b[39;49m])\n\u001b[1;32m     12\u001b[0m \u001b[38;5;66;03m# for l in int_list:\u001b[39;00m\n\u001b[1;32m     13\u001b[0m \u001b[38;5;66;03m#    print(l)\u001b[39;00m\n\u001b[1;32m     14\u001b[0m \u001b[38;5;28mprint\u001b[39m(\u001b[38;5;124m'\u001b[39m\u001b[38;5;124mProcessando...\u001b[39m\u001b[38;5;124m'\u001b[39m)\n",
      "\u001b[0;31mTypeError\u001b[0m: unsupported operand type(s) for -: 'generator' and 'int'"
     ]
    }
   ],
   "source": [
    "from multiprocessing.dummy import Array\n",
    "import numpy as np\n",
    "import networkx as nx\n",
    "import matplotlib.pyplot as plt\n",
    "\n",
    "i = 1\n",
    "while ( i <= 1 ):\n",
    "     aquivoDeInstancia = open('ORLib/pmed{}.txt'.format(i), \"r\") \n",
    "     int_list = []\n",
    "     for line in aquivoDeInstancia.readlines():\n",
    "          int_list.append([int(i) for i in line.split()])\n",
    "     # for l in int_list:\n",
    "     #    print(l)\n",
    "     print('Processando...')\n",
    "     vertices = int_list[0][0]\n",
    "     arestas = int_list[0][1]\n",
    "     int_list.pop(0)\n",
    "     graph = np.array([[0]*(vertices) for _ in range(vertices)])\n",
    "     for l in int_list:\n",
    "          graph[l[0]][l[1]] = 1    \n",
    "\n",
    "     graph = np.delete(graph, 0, 0)\n",
    "     graph = np.delete(graph, 1, 0)\n",
    "     print(graph[0][1])\n",
    "     for line in graph:\n",
    "          print ('  '.join(map(str, line)))\n",
    "\n",
    "     #G = nx.from_numpy_matrix(graph)\n",
    "     # pos = nx.planar_layout(G)\n",
    "     #nx.draw(G, with_labels=True, font_weight='bold') \n",
    "\n",
    "     #plt.show()\n",
    "     i+=1\n",
    "\n",
    "\n"
   ]
  },
  {
   "cell_type": "markdown",
   "metadata": {},
   "source": [
    "# Busca em profundidade"
   ]
  },
  {
   "cell_type": "code",
   "execution_count": null,
   "metadata": {},
   "outputs": [
    {
     "ename": "SyntaxError",
     "evalue": "expected ':' (1469479929.py, line 3)",
     "output_type": "error",
     "traceback": [
      "\u001b[0;36m  Cell \u001b[0;32mIn [87], line 3\u001b[0;36m\u001b[0m\n\u001b[0;31m    if (coluna)\u001b[0m\n\u001b[0m               ^\u001b[0m\n\u001b[0;31mSyntaxError\u001b[0m\u001b[0;31m:\u001b[0m expected ':'\n"
     ]
    }
   ],
   "source": [
    "for linha in graph:\n",
    "    for coluna in linha:\n",
    "        if (coluna)\n"
   ]
  }
 ],
 "metadata": {
  "kernelspec": {
   "display_name": "Python 3.10.7 64-bit",
   "language": "python",
   "name": "python3"
  },
  "language_info": {
   "codemirror_mode": {
    "name": "ipython",
    "version": 3
   },
   "file_extension": ".py",
   "mimetype": "text/x-python",
   "name": "python",
   "nbconvert_exporter": "python",
   "pygments_lexer": "ipython3",
   "version": "3.10.7"
  },
  "orig_nbformat": 4,
  "vscode": {
   "interpreter": {
    "hash": "e7370f93d1d0cde622a1f8e1c04877d8463912d04d973331ad4851f04de6915a"
   }
  }
 },
 "nbformat": 4,
 "nbformat_minor": 2
}
